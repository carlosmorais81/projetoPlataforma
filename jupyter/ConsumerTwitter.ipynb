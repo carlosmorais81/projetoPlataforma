{
 "cells": [
  {
   "cell_type": "code",
   "execution_count": null,
   "id": "3c544ac0-7b49-460e-a67c-d5bf98338ab2",
   "metadata": {},
   "outputs": [],
   "source": [
    "pip install kafka-python"
   ]
  },
  {
   "cell_type": "code",
   "execution_count": null,
   "id": "fe7b4f42-a04f-4b74-89d5-a31d6bc9bd48",
   "metadata": {},
   "outputs": [],
   "source": [
    "pip install cassandra-driver"
   ]
  },
  {
   "cell_type": "code",
   "execution_count": null,
   "id": "e94565bc-5869-45e0-93fd-495f03ca7fd7",
   "metadata": {},
   "outputs": [],
   "source": [
    "import json\n",
    "import os\n",
    "from datetime import datetime\n",
    "from cassandra.cluster import Cluster\n",
    "from kafka import KafkaConsumer"
   ]
  },
  {
   "cell_type": "code",
   "execution_count": null,
   "id": "bcdebe00-c11a-43d2-9392-7dc657ea7200",
   "metadata": {},
   "outputs": [],
   "source": [
    "class Consumer:\n",
    "    def __init__(self):\n",
    "        self.broker = '172.24.160.5:9092'\n",
    "        self.topico = 'twitter_news'\n",
    "\n",
    "    def get_msg(self):\n",
    "        consumers = KafkaConsumer(bootstrap_servers=self.broker, group_id='pegadado',\n",
    "                                 auto_offset_reset='earliest',\n",
    "                                 consumer_timeout_ms=1000)\n",
    "        consumers.subscribe([self.topico])\n",
    "        try:\n",
    "            return consumers\n",
    "\n",
    "        except Exception as e:\n",
    "            print(e)"
   ]
  },
  {
   "cell_type": "code",
   "execution_count": null,
   "id": "f048ca0c-c153-475f-9add-c019ede53375",
   "metadata": {},
   "outputs": [],
   "source": [
    "class Dados:\n",
    "    def __init__(self):\n",
    "        self.cluster = Cluster(contact_points=[\"172.24.160.3\"])\n",
    "        self.session = self.cluster.connect(keyspace=\"twitters\")\n",
    "        self.horario = \"\"\n",
    "        self.created_at = \"\"\n",
    "        self.desc_text = \"\"\n",
    "        self.hashtg = \"\"\n",
    "        self.id_usr = \"\"\n",
    "        self.screen_name = \"\"\n",
    "        self.location = \"\"\n",
    "        self.followers_count = \"\"\n",
    "        self.friends_count = \"\"\n",
    "        self.listed_count = \"\"\n",
    "        self.created_at_usr = \"\"\n",
    "        self.favourites_count = \"\"\n",
    "        self.statuses_count = \"\"\n",
    "        self.retweet_count = \"\"\n",
    "        self.favorite_count = \"\"\n",
    "        self.lang = \"\"\n",
    "        self.dt_proc = \"\"\n",
    "        self.insert = self.session.prepare(\n",
    "            query=\"INSERT INTO twitt (horario, created_at, desc_text, hashtg, id_usr, screen_name, \" \\\n",
    "                  \"location, followers_count, friends_count, listed_count, created_at_usr, favourites_count, \" \\\n",
    "                  \"statuses_count, retweet_count, favorite_count, lang, dt_proc) VALUES (?,?,?,?,?,?,\" \\\n",
    "                  \"?,?,?,?,?,?,?,?,?,?,?)\"\n",
    "        )\n",
    "       \n",
    "    def add_twitter(self):\n",
    "        self.session.execute(query=self.insert, parameters=[self.horario, self.created_at, self.desc_text,\n",
    "                                                            self.hashtg, self.id_usr, self.screen_name,\n",
    "                                                            self.location, self.followers_count, self.friends_count,\n",
    "                                                            self.listed_count, self.created_at_usr,\n",
    "                                                            self.favourites_count, self.statuses_count,\n",
    "                                                            self.retweet_count, self.favorite_count,\n",
    "                                                            self.lang, self.dt_proc])\n",
    "        print(\"Added.\\n\")\n",
    "        \n",
    "    def list_twitter(self):\n",
    "        rows = self.session.execute('select * from twitters.twitt;')\n",
    "        return rows"
   ]
  },
  {
   "cell_type": "code",
   "execution_count": null,
   "id": "a8ace742-5b62-4834-8ba0-3ce8b29a416a",
   "metadata": {},
   "outputs": [],
   "source": [
    "consumers = Consumer()\n",
    "dado = Dados()\n",
    "res = []"
   ]
  },
  {
   "cell_type": "code",
   "execution_count": null,
   "id": "e23c148f-2d67-4ebf-aa02-37a15b8a2bb7",
   "metadata": {},
   "outputs": [],
   "source": [
    "msgs = consumers.get_msg()"
   ]
  },
  {
   "cell_type": "code",
   "execution_count": null,
   "id": "f76ad81b-6160-4c3e-9691-ab48081625c8",
   "metadata": {},
   "outputs": [],
   "source": [
    "for messagem in msgs:\n",
    "    texto = json.loads(messagem.value.decode('utf-8'))\n",
    "    hashtg = \"#\".join(map(str, [r['text'] for r in texto['tweet']['entities']['hashtags']]))\n",
    "\n",
    "    dado.horario = str(texto['horario'])\n",
    "    dado.created_at = str(texto['tweet']['created_at'])\n",
    "    dado.desc_text = str(texto['tweet']['text']).rstrip().rstrip(os.linesep).replace('\\n', ''). \\\n",
    "        replace('\\r', '').replace(',', '').replace(\"'\", '')\n",
    "    dado.hashtg = str(hashtg)\n",
    "    dado.id_usr = str(texto['tweet']['user']['id'])\n",
    "    dado.screen_name = str(texto['tweet']['user']['screen_name'])\n",
    "    dado.location = str(texto['tweet']['user']['location'])\n",
    "    dado.followers_count = str(texto['tweet']['user']['followers_count'])\n",
    "    dado.friends_count = str(texto['tweet']['user']['friends_count'])\n",
    "    dado.listed_count = str(texto['tweet']['user']['listed_count'])\n",
    "    dado.created_at_usr = str(texto['tweet']['user']['created_at'])\n",
    "    dado.favourites_count = str(texto['tweet']['user']['favourites_count'])\n",
    "    dado.statuses_count = str(texto['tweet']['user']['statuses_count'])\n",
    "    dado.retweet_count = str(texto['tweet']['retweet_count'])\n",
    "    dado.favorite_count = str(texto['tweet']['favorite_count'])\n",
    "    dado.lang = str(texto['tweet']['lang'])\n",
    "    dado.dt_proc = datetime.now().strftime('%Y-%m-%d %H:%M:%S')\n",
    "    dado.add_twitter()"
   ]
  },
  {
   "cell_type": "code",
   "execution_count": null,
   "id": "8b554e56-f639-4bdd-9536-07881ce760cd",
   "metadata": {},
   "outputs": [],
   "source": [
    "rws = dado.list_twitter()"
   ]
  },
  {
   "cell_type": "code",
   "execution_count": null,
   "id": "c2b998b3-bb2c-4f5b-aa82-57636d5b216d",
   "metadata": {},
   "outputs": [],
   "source": [
    "for r in rws:\n",
    "    print(r)"
   ]
  }
 ],
 "metadata": {
  "kernelspec": {
   "display_name": "Python 3 (ipykernel)",
   "language": "python",
   "name": "python3"
  },
  "language_info": {
   "codemirror_mode": {
    "name": "ipython",
    "version": 3
   },
   "file_extension": ".py",
   "mimetype": "text/x-python",
   "name": "python",
   "nbconvert_exporter": "python",
   "pygments_lexer": "ipython3",
   "version": "3.9.7"
  }
 },
 "nbformat": 4,
 "nbformat_minor": 5
}
