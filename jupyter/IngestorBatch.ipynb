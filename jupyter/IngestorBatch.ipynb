{
 "cells": [
  {
   "cell_type": "code",
   "execution_count": null,
   "id": "af8f7a04-a864-4698-bf82-2c2a27c173b2",
   "metadata": {},
   "outputs": [],
   "source": [
    "import pyspark\n",
    "from pyspark.sql.functions import current_date\n",
    "from cassandra.cluster import Cluster\n",
    "from datetime import datetime\n",
    "from pyspark.sql.functions import lit, monotonically_increasing_id"
   ]
  },
  {
   "cell_type": "code",
   "execution_count": null,
   "id": "0b3f54ff-6ef1-4a4a-beb8-f3f84979cc1f",
   "metadata": {},
   "outputs": [],
   "source": [
    "spark = pyspark.sql.SparkSession.builder \\\n",
    "    .appName('sample') \\\n",
    "    .config(\"spark.jars\", \"/home/docker_worker/libs/spark-cassandra-connector-assembly_2.12-3.0-9.jar\") \\\n",
    "    .config('spark.cassandra.connection.host', '172.24.160.3') \\\n",
    "    .config('spark.cassandra.connection.port', '9042') \\\n",
    "    .config('spark.cassandra.connection.timeout_ms', '5000') \\\n",
    "    .config('spark.cassandra.read.timeout_ms', '200000') \\\n",
    "    .config('spark.cassandra.connection.localDC', 'DC1') \\\n",
    "    .config('spark.cassandra.output.consistency.level','ONE') \\\n",
    "    .config('local-datacenter = datacenter1') \\\n",
    "    .getOrCreate()"
   ]
  },
  {
   "cell_type": "code",
   "execution_count": null,
   "id": "4ef78c7c-7262-4566-af65-7297e6b489a7",
   "metadata": {},
   "outputs": [],
   "source": [
    "file = '/home/docker_worker/work/twitter_arq.txt'"
   ]
  },
  {
   "cell_type": "code",
   "execution_count": null,
   "id": "1062b20c-cc7a-418f-86a0-b941fdbf8df7",
   "metadata": {},
   "outputs": [],
   "source": [
    "data_hora = datetime.now().strftime('%Y-%m-%d %H:%M:%S')"
   ]
  },
  {
   "cell_type": "code",
   "execution_count": null,
   "id": "5cb01034-a3d1-492a-808a-7b903c1ab81f",
   "metadata": {},
   "outputs": [],
   "source": [
    "df = spark.read.option(\"delimiter\", \",\").option(\"header\",\"true\").csv(file).drop('_c0').withColumnRenamed('text', 'obs').withColumn(\"numseq\", monotonically_increasing_id())"
   ]
  },
  {
   "cell_type": "code",
   "execution_count": null,
   "id": "0f4f8134-18f6-4537-a62b-d1043a5acfc9",
   "metadata": {},
   "outputs": [],
   "source": [
    "df.show()"
   ]
  },
  {
   "cell_type": "code",
   "execution_count": null,
   "id": "55252937-0565-44cb-b435-0904b1458de6",
   "metadata": {},
   "outputs": [],
   "source": [
    "df.printSchema()"
   ]
  },
  {
   "cell_type": "code",
   "execution_count": null,
   "id": "caf67a5c-9ed0-4920-a86c-8a3273a36d50",
   "metadata": {},
   "outputs": [],
   "source": [
    "df.write.format(\"org.apache.spark.sql.cassandra\").mode(\"overwrite\").option(\"confirm.truncate\",\"true\").options(keyspace=\"twitters\",table=\"twittarquivo\").save()"
   ]
  },
  {
   "cell_type": "code",
   "execution_count": null,
   "id": "574da8eb-a801-4bd8-aed5-3917a2896b62",
   "metadata": {},
   "outputs": [],
   "source": [
    "spark.read \\\n",
    "    .format(\"org.apache.spark.sql.cassandra\") \\\n",
    "    .options(table=\"twittarquivo\", keyspace=\"twitters\") \\\n",
    "    .load().show()"
   ]
  }
 ],
 "metadata": {
  "kernelspec": {
   "display_name": "Python 3 (ipykernel)",
   "language": "python",
   "name": "python3"
  },
  "language_info": {
   "codemirror_mode": {
    "name": "ipython",
    "version": 3
   },
   "file_extension": ".py",
   "mimetype": "text/x-python",
   "name": "python",
   "nbconvert_exporter": "python",
   "pygments_lexer": "ipython3",
   "version": "3.9.7"
  }
 },
 "nbformat": 4,
 "nbformat_minor": 5
}
