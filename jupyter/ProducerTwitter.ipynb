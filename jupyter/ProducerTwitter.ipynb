{
 "cells": [
  {
   "cell_type": "code",
   "execution_count": null,
   "id": "e852ff09-0a94-4c93-a762-5967f5287a5d",
   "metadata": {},
   "outputs": [],
   "source": [
    "pip install tweepy"
   ]
  },
  {
   "cell_type": "code",
   "execution_count": null,
   "id": "3c544ac0-7b49-460e-a67c-d5bf98338ab2",
   "metadata": {},
   "outputs": [],
   "source": [
    "pip install kafka-python"
   ]
  },
  {
   "cell_type": "code",
   "execution_count": null,
   "id": "fe7b4f42-a04f-4b74-89d5-a31d6bc9bd48",
   "metadata": {},
   "outputs": [],
   "source": [
    "pip install scylla-driver"
   ]
  },
  {
   "cell_type": "code",
   "execution_count": null,
   "id": "e94565bc-5869-45e0-93fd-495f03ca7fd7",
   "metadata": {},
   "outputs": [],
   "source": [
    "import json\n",
    "from datetime import datetime\n",
    "from kafka import KafkaProducer, KafkaConsumer\n",
    "import tweepy\n",
    "import os\n",
    "import pandas as pd\n",
    "import sys\n",
    "import hashlib"
   ]
  },
  {
   "cell_type": "code",
   "execution_count": null,
   "id": "7a637343-6ae7-43b8-971d-90c53bf0307c",
   "metadata": {},
   "outputs": [],
   "source": [
    "class Producers:\n",
    "    def __init__(self):\n",
    "        self.broker = '172.24.160.5:9092'\n",
    "        self.topico = 'twitter_news'\n",
    "        self.resp = \"\"\n",
    "        self.prod = KafkaProducer(bootstrap_servers=[self.broker],\n",
    "                                  value_serializer=lambda v: json.dumps(v).encode('utf-8'))\n",
    "\n",
    "    def send_msg(self):\n",
    "        data_hora = datetime.now().strftime('%Y-%m-%d %H:%M:%S')\n",
    "        dados = {\"tweet\": self.resp, \"horario\": data_hora}\n",
    "\n",
    "        self.prod.send(self.topico, value=dados)"
   ]
  },
  {
   "cell_type": "code",
   "execution_count": null,
   "id": "f048ca0c-c153-475f-9add-c019ede53375",
   "metadata": {},
   "outputs": [],
   "source": [
    "def create_user_locs(tweets):\n",
    "    user_locs = []\n",
    "    contadorTweets = 0\n",
    "    prod = Producers()\n",
    "    for tweet in tweets:\n",
    "        username = str(tweet.user.screen_name.lower().encode('ascii',errors='ignore'))\n",
    "        description = str(tweet.user.description.lower().encode('ascii',errors='ignore'))\n",
    "        location = str(tweet.user.location.lower().encode('ascii',errors='ignore'))\n",
    "        following = str(str(tweet.user.friends_count).lower().encode('ascii',errors='ignore'))\n",
    "        followers = str(str(tweet.user.followers_count).lower().encode('ascii',errors='ignore'))\n",
    "        totaltweets = str(str(tweet.user.statuses_count).lower().encode('ascii',errors='ignore'))\n",
    "        retweetcount = str(str(tweet.retweet_count).lower().encode('ascii',errors='ignore'))\n",
    "        text = str(tweet.text.lower().encode('ascii',errors='ignore'))\n",
    "        th_tweet = [username, description, location, following,followers, totaltweets, retweetcount, text]\n",
    "        user_locs.append(th_tweet)\n",
    "        #grava dados no kafka simulando um producer\n",
    "        prod.resp = tweet._json\n",
    "        prod.send_msg()\n",
    "        contadorTweets += 1\n",
    "\n",
    "    return user_locs, contadorTweets"
   ]
  },
  {
   "cell_type": "code",
   "execution_count": null,
   "id": "a8ace742-5b62-4834-8ba0-3ce8b29a416a",
   "metadata": {},
   "outputs": [],
   "source": [
    "def hash_username(user_list):\n",
    "    length = range(len(user_list))\n",
    "    for i in length:\n",
    "        user_list[i][0] = hashlib.md5(user_list[i][0].encode()).hexdigest()\n",
    "    return user_list"
   ]
  },
  {
   "cell_type": "code",
   "execution_count": null,
   "id": "f76ad81b-6160-4c3e-9691-ab48081625c8",
   "metadata": {},
   "outputs": [],
   "source": [
    "def create_csv(data, file_name):\n",
    "    dirarq = '/home/docker_worker/work/'\n",
    "    df = pd.DataFrame(data=data,columns=['username', 'description', 'location', 'following',\n",
    "                                'followers', 'totaltweets', 'retweetcount', 'text'])\n",
    "\n",
    "    df.to_csv(dirarq + file_name)"
   ]
  },
  {
   "cell_type": "code",
   "execution_count": 15,
   "id": "a44caa27-67ad-40ee-a594-7099b0ec725e",
   "metadata": {},
   "outputs": [
    {
     "name": "stdout",
     "output_type": "stream",
     "text": [
      "Foram coletados 100 tweets.\n"
     ]
    }
   ],
   "source": [
    "if __name__ == \"__main__\":\n",
    "    consumer_key = \"----\"\n",
    "    consumer_secret = \"----\"\n",
    "    access_token = \"333333\"\n",
    "    access_token_secret = \"----\"\n",
    "\n",
    "    hashtag = \"#Covid\" + \" -filter:retweets\"\n",
    "    numbertweets = 100\n",
    "    file_name = \"twitter_arq.txt\"\n",
    "\n",
    "    auth = tweepy.OAuthHandler(consumer_key, consumer_secret)\n",
    "    auth.set_access_token(access_token, access_token_secret)\n",
    "    api = tweepy.API(auth, wait_on_rate_limit=True)\n",
    "\n",
    "    tweets = tweepy.Cursor(api.search_tweets,q=hashtag,lang=\"pt\").items(numbertweets)\n",
    "\n",
    "    data, qtdTweet = create_user_locs(tweets)\n",
    "    data_hash = hash_username(data)\n",
    "    create_csv(data_hash, file_name)\n",
    "\n",
    "    print(\"Foram coletados \" + str(qtdTweet) + \" tweets.\")"
   ]
  }
 ],
 "metadata": {
  "kernelspec": {
   "display_name": "Python 3 (ipykernel)",
   "language": "python",
   "name": "python3"
  },
  "language_info": {
   "codemirror_mode": {
    "name": "ipython",
    "version": 3
   },
   "file_extension": ".py",
   "mimetype": "text/x-python",
   "name": "python",
   "nbconvert_exporter": "python",
   "pygments_lexer": "ipython3",
   "version": "3.9.7"
  }
 },
 "nbformat": 4,
 "nbformat_minor": 5
}
